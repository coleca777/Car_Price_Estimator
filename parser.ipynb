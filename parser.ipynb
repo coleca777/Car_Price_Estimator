{
 "cells": [
  {
   "cell_type": "code",
   "execution_count": null,
   "metadata": {},
   "outputs": [],
   "source": [
    "import pandas as pd\n",
    "import warnings\n",
    "import numpy as np\n",
    "import plotly.graph_objects as go\n",
    "import plotly.express as px\n",
    "\n",
    "warnings.filterwarnings('ignore')\n",
    "pd.set_option('display.max_columns', None)"
   ]
  },
  {
   "cell_type": "code",
   "execution_count": null,
   "metadata": {},
   "outputs": [],
   "source": [
    "df = pd.read_csv('cleaned_car_data.csv', sep=\"|\")\n",
    "df\n"
   ]
  },
  {
   "cell_type": "code",
   "execution_count": null,
   "metadata": {},
   "outputs": [],
   "source": []
  },
  {
   "cell_type": "code",
   "execution_count": null,
   "metadata": {},
   "outputs": [],
   "source": [
    "df['major_options'] = df['major_options'].str.replace(\"[\", \"\")\n",
    "df['major_options'] = df['major_options'].str.replace(\"]\", \"\")\n",
    "df['major_options'] = df['major_options'].str.replace(\"'\", \"\")\n",
    "df['major_options'] = df['major_options'].str.split(\", \")\n",
    "df"
   ]
  },
  {
   "cell_type": "code",
   "execution_count": null,
   "metadata": {},
   "outputs": [],
   "source": [
    "l = df['major_options'].to_list()\n",
    "l = [item for sublist in l for item in sublist]\n",
    "l = list(set(l))\n",
    "l =[i.lstrip() for i in l]\n",
    "#print(l)\n",
    "print(len(l))"
   ]
  },
  {
   "cell_type": "code",
   "execution_count": null,
   "metadata": {},
   "outputs": [],
   "source": [
    "import vehicle_package_grouping as vpg\n",
    "category_lst = vpg.category_lst\n",
    "\n",
    "grouping_dict = {}\n",
    "i = 0\n",
    "for a in category_lst:\n",
    "    for b in a:\n",
    "        grouping_dict[b] = i\n",
    "    i+=1\n",
    "#print(grouping_dict)\n",
    "def combine_majour_options(x):\n",
    "    out = []\n",
    "    for a in x:\n",
    "        out.append(grouping_dict[a])\n",
    "    return list(set(out))#just in case a car has 2 of the same 'package type'"
   ]
  },
  {
   "cell_type": "code",
   "execution_count": null,
   "metadata": {},
   "outputs": [],
   "source": [
    "df['major_options'].describe\n",
    "df['major_options'].nunique\n"
   ]
  },
  {
   "cell_type": "code",
   "execution_count": null,
   "metadata": {},
   "outputs": [],
   "source": [
    "df['major_options'] = df['major_options'].apply(combine_majour_options)\n",
    "df"
   ]
  },
  {
   "cell_type": "code",
   "execution_count": null,
   "metadata": {},
   "outputs": [],
   "source": [
    "df['major_options'].describe\n",
    "df['major_options'].nunique"
   ]
  },
  {
   "cell_type": "code",
   "execution_count": null,
   "metadata": {},
   "outputs": [],
   "source": [
    "df.to_csv('cleaned_car_data_v2.csv', index=False)"
   ]
  },
  {
   "cell_type": "code",
   "execution_count": null,
   "metadata": {},
   "outputs": [],
   "source": [
    "fig = px.histogram(df, x=\"listed_date\", nbins=4000)\n",
    "\n",
    "\n",
    "#fig.update_xaxes( range=[0, 500000])\n",
    "fig.show()"
   ]
  },
  {
   "cell_type": "code",
   "execution_count": null,
   "metadata": {},
   "outputs": [],
   "source": [
    "pcts = list(df['body_type'].value_counts())\n",
    "names = list(df['body_type'].unique())\n",
    "\n",
    "fig = go.Figure(data=[go.Pie(labels=names, values=pcts)])\n",
    "fig.show()"
   ]
  },
  {
   "cell_type": "code",
   "execution_count": null,
   "metadata": {},
   "outputs": [],
   "source": []
  },
  {
   "cell_type": "code",
   "execution_count": null,
   "metadata": {},
   "outputs": [],
   "source": [
    "new_df = (\n",
    "    pd.get_dummies(df, columns=['make_name'],\n",
    "                   prefix_sep='', prefix='')\n",
    "        .groupby('body_type', as_index=False)\n",
    "        .sum()\n",
    ")\n",
    "new_df=new_df.drop(columns=['price', 'has_accidents', 'mileage', 'owner_count', 'year'])\n",
    "new_df"
   ]
  },
  {
   "cell_type": "code",
   "execution_count": null,
   "metadata": {},
   "outputs": [],
   "source": [
    "a = (list(new_df.columns))\n",
    "a.remove('body_type')\n",
    "\n",
    "\n",
    "\n",
    "car_types=new_df['body_type'].to_list()\n",
    "out=[]\n",
    "for b in a:\n",
    "    out.append(go.Bar(name=b, x=car_types, y=new_df[b].to_list(), hovertext=[b]))\n",
    "fig = go.Figure(data=out)\n",
    "# Change the bar mode\n",
    "fig.update_layout(barmode='stack')\n",
    "fig.show()\n"
   ]
  },
  {
   "cell_type": "code",
   "execution_count": null,
   "metadata": {},
   "outputs": [],
   "source": [
    "prices = df['price'].to_list()\n",
    "for i in range(len(prices)):\n",
    "    prices[i] = round(int(prices[i]),-2)\n",
    "from collections import Counter\n",
    "c = Counter(prices)\n",
    "#print(c)"
   ]
  },
  {
   "cell_type": "code",
   "execution_count": null,
   "metadata": {},
   "outputs": [],
   "source": [
    "fig = px.histogram(df, x=\"price\", nbins=4000)\n",
    "\n",
    "\n",
    "fig.update_xaxes( range=[0, 500000])\n",
    "fig.show()"
   ]
  },
  {
   "cell_type": "code",
   "execution_count": null,
   "metadata": {},
   "outputs": [],
   "source": [
    "fig = px.histogram(df, x=\"price\")\n",
    "fig.update_xaxes( range=[0, 500000])\n",
    "fig.show()"
   ]
  }
 ],
 "metadata": {
  "kernelspec": {
   "display_name": "Python 3",
   "language": "python",
   "name": "python3"
  },
  "language_info": {
   "codemirror_mode": {
    "name": "ipython",
    "version": 3
   },
   "file_extension": ".py",
   "mimetype": "text/x-python",
   "name": "python",
   "nbconvert_exporter": "python",
   "pygments_lexer": "ipython3",
   "version": "3.11.1"
  },
  "orig_nbformat": 4
 },
 "nbformat": 4,
 "nbformat_minor": 2
}
